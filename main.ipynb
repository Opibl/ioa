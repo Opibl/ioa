{
 "cells": [
  {
   "cell_type": "code",
   "execution_count": 9,
   "metadata": {},
   "outputs": [
    {
     "name": "stdout",
     "output_type": "stream",
     "text": [
      "Note: you may need to restart the kernel to use updated packages.\n",
      "Licensed to Bundle #6733.7184 expiring 20241231: ICI5142-01 INVESTIGACION DE OPERACIONES AVANZADAS (Advanced Operations Research), Prof. Guillermo Cabrera-Guerrero, Pontificia Universidad Catolica de Valparaiso.\n"
     ]
    }
   ],
   "source": [
    "%pip install -q amplpy\n",
    "from amplpy import AMPL, ampl_notebook\n",
    "\n",
    "# Inicializa el entorno AMPL con los módulos que necesitas y la licencia UUID\n",
    "ampl = ampl_notebook(\n",
    "    modules=[\"highs\", \"cbc\", \"gurobi\", \"cplex\"],  # Selección de módulos\n",
    "    license_uuid=\"bb2c71f6-2b4c-4570-8eaf-4db0b0d7349a\"  # Tu licencia UUID\n",
    ")\n"
   ]
  },
  {
   "cell_type": "code",
   "execution_count": 10,
   "metadata": {},
   "outputs": [
    {
     "name": "stdout",
     "output_type": "stream",
     "text": [
      "Overwriting cflp.mod\n"
     ]
    }
   ],
   "source": [
    "%%writefile cflp.mod\n",
    "# Definición de conjuntos\n",
    "set SR;  # Conjunto de regiones proveedoras\n",
    "set DR;  # Conjunto de regiones demandantes\n",
    "\n",
    "# Definición de parámetros\n",
    "param fixcost{SR};    # Costo fijo para abrir una planta en cada región proveedora\n",
    "param capacity{SR};   # Capacidad de las plantas en las regiones proveedoras\n",
    "param demand{DR};     # Demanda en las regiones demandantes\n",
    "param transp_cost{SR, DR};  # Costo de transporte entre regiones proveedoras y demandantes\n",
    "\n",
    "# Variables de decisión\n",
    "var Q{SR, DR} >= 0;  # Cantidad transportada de la región i a la región j\n",
    "var y{SR} binary;    # Decisión de abrir o no la planta en la región i\n",
    "\n",
    "# Función objetivo: minimizar el costo total\n",
    "minimize Totalcost:\n",
    "    sum{i in SR, j in DR} Q[i,j] * transp_cost[i,j] +\n",
    "    sum{i in SR} y[i] * fixcost[i];\n",
    "\n",
    "# Restricciones\n",
    "\n",
    "# Satisfacer la demanda en todas las regiones demandantes\n",
    "subject to Demand_Satisfaction{j in DR}:\n",
    "    sum{i in SR} Q[i,j] == demand[j];\n",
    "\n",
    "# No exceder la capacidad de las plantas abiertas\n",
    "subject to Capacity_Limit{i in SR}:\n",
    "    sum{j in DR} Q[i,j] <= capacity[i] * y[i];"
   ]
  },
  {
   "cell_type": "code",
   "execution_count": 11,
   "metadata": {},
   "outputs": [
    {
     "name": "stdout",
     "output_type": "stream",
     "text": [
      "Overwriting Mcflp.mod\n"
     ]
    }
   ],
   "source": [
    "%%writefile Mcflp.mod\n",
    "# Definición de conjuntos\n",
    "set SR;  # Conjunto de regiones proveedoras\n",
    "set DR;  # Conjunto de regiones demandantes\n",
    "\n",
    "# Definición de parámetros\n",
    "param fixcost{SR};    # Costo fijo para abrir una planta en cada región proveedora\n",
    "param capacity{SR};   # Capacidad de las plantas en las regiones proveedoras\n",
    "param demand{DR};     # Demanda en las regiones demandantes\n",
    "param transp_cost{SR, DR};  # Costo de transporte entre regiones proveedoras y demandantes\n",
    "\n",
    "# Variables de decisión\n",
    "var Q{SR, DR} >= 0;  # Cantidad transportada de la región proveedora i a la región demandante j\n",
    "var y{SR} binary;    # Decisión de abrir o no la planta en la región i\n",
    "\n",
    "# Función objetivo: minimizar el costo total\n",
    "minimize Totalcost:\n",
    "    sum{i in SR, j in DR} Q[i,j] * transp_cost[i,j] +\n",
    "    sum{i in SR} y[i] * fixcost[i];\n",
    "\n",
    "# Restricciones\n",
    "\n",
    "# Satisfacer la demanda en todas las regiones demandantes\n",
    "subject to Demand_Satisfaction{j in DR}:\n",
    "    sum{i in SR} Q[i,j] >= demand[j];  # Se permite que una región demandante sea abastecida por varias plantas\n",
    "\n",
    "# No exceder la capacidad de las plantas abiertas\n",
    "subject to Capacity_Limit{i in SR}:\n",
    "    sum{j in DR} Q[i,j] <= capacity[i] * y[i];\n",
    "\n",
    "# Restringir las cantidades transportadas solo desde plantas abiertas\n",
    "subject to Supply_Only_From_Open_Plants{i in SR, j in DR}:\n",
    "    Q[i,j] <= capacity[i] * y[i];\n"
   ]
  },
  {
   "cell_type": "code",
   "execution_count": 12,
   "metadata": {},
   "outputs": [
    {
     "name": "stdout",
     "output_type": "stream",
     "text": [
      "Overwriting cflp.dat\n"
     ]
    }
   ],
   "source": [
    "%%writefile cflp.dat\n",
    "# Conjuntos\n",
    "set SR := 1 2 3;  # Regiones proveedoras\n",
    "set DR := A B;    # Regiones demandantes\n",
    "\n",
    "# Parámetros\n",
    "param fixcost :=\n",
    "    1 1000\n",
    "    2 1500\n",
    "    3 1200;\n",
    "\n",
    "param capacity :=\n",
    "    1 500\n",
    "    2 700\n",
    "    3 600;\n",
    "\n",
    "param demand :=\n",
    "    A 300\n",
    "    B 400;\n",
    "\n",
    "param transp_cost :  A  B :=\n",
    "    1   4   6\n",
    "    2   2   3\n",
    "    3   5   8 ;\n"
   ]
  },
  {
   "cell_type": "code",
   "execution_count": 13,
   "metadata": {},
   "outputs": [
    {
     "name": "stdout",
     "output_type": "stream",
     "text": [
      "Overwriting Mcflp.dat\n"
     ]
    }
   ],
   "source": [
    "%%writefile Mcflp.dat\n",
    "# Conjuntos\n",
    "set SR := 1 2 3 4;  # Regiones proveedoras\n",
    "set DR := A B C;    # Regiones demandantes\n",
    "\n",
    "# Parámetros\n",
    "param fixcost :=\n",
    "    1 1200\n",
    "    2 1600\n",
    "    3 1300\n",
    "    4 1800;\n",
    "\n",
    "param capacity :=\n",
    "    1 500\n",
    "    2 800\n",
    "    3 600\n",
    "    4 700;\n",
    "\n",
    "param demand :=\n",
    "    A 350\n",
    "    B 450\n",
    "    C 300;\n",
    "\n",
    "param transp_cost :  A  B  C :=\n",
    "    1   4   6   5\n",
    "    2   3   2   7\n",
    "    3   6   5   4\n",
    "    4   7   3   6 ;\n"
   ]
  },
  {
   "cell_type": "code",
   "execution_count": 14,
   "metadata": {},
   "outputs": [
    {
     "name": "stdout",
     "output_type": "stream",
     "text": [
      "Gurobi 11.0.3:Gurobi 11.0.3: optimal solution; objective 3300\n",
      "2 simplex iterations\n",
      "1 branching node\n",
      "Q :=\n",
      "1 A     0\n",
      "1 B     0\n",
      "2 A   300\n",
      "2 B   400\n",
      "3 A     0\n",
      "3 B     0\n",
      ";\n",
      "\n",
      "y [*] :=\n",
      "1  0\n",
      "2  1\n",
      "3  0\n",
      ";\n",
      "\n"
     ]
    }
   ],
   "source": [
    "%%ampl_eval\n",
    "model cflp.mod;\n",
    "data cflp.dat;\n",
    "option solver gurobi;\n",
    "solve;\n",
    "display Q,y;"
   ]
  },
  {
   "cell_type": "code",
   "execution_count": 15,
   "metadata": {},
   "outputs": [
    {
     "name": "stdout",
     "output_type": "stream",
     "text": [
      "Gurobi 11.0.3:Gurobi 11.0.3: optimal solution; objective 6050\n",
      "8 simplex iterations\n",
      "1 branching node\n",
      "Q :=\n",
      "1 A     0\n",
      "1 B     0\n",
      "1 C     0\n",
      "2 A   350\n",
      "2 B   450\n",
      "2 C     0\n",
      "3 A     0\n",
      "3 B     0\n",
      "3 C   300\n",
      "4 A     0\n",
      "4 B     0\n",
      "4 C     0\n",
      ";\n",
      "\n",
      "y [*] :=\n",
      "1  0\n",
      "2  1\n",
      "3  1\n",
      "4  0\n",
      ";\n",
      "\n"
     ]
    }
   ],
   "source": [
    "%%ampl_eval\n",
    "reset;\n",
    "model Mcflp.mod;\n",
    "data Mcflp.dat;\n",
    "option solver gurobi;\n",
    "solve;\n",
    "display Q, y;\n"
   ]
  },
  {
   "cell_type": "markdown",
   "metadata": {},
   "source": [
    "Inicialización: Se crea una población inicial de individuos aleatorios.\n",
    "Evaluación: Se evalúa cada individuo utilizando la función de aptitud.\n",
    "Selección: Se seleccionan los individuos más aptos para reproducirse.\n",
    "Cruce: Los individuos seleccionados se combinan para formar nuevos individuos.\n",
    "Mutación: Se mutan algunos individuos aleatoriamente para garantizar la diversidad.\n",
    "Reemplazo: Los individuos de la nueva generación reemplazan a la población anterior.\n",
    "\n",
    "Repetición: Los pasos del 2 al 6 se repiten hasta que se cumpla la condición de parada."
   ]
  },
  {
   "cell_type": "code",
   "execution_count": 22,
   "metadata": {},
   "outputs": [],
   "source": [
    "import numpy as np\n",
    "\n",
    "\n",
    "\n",
    "def algoritmo_genetico(filas,columnas):\n",
    "   matriz_random = np.random.random((filas, columnas))\n",
    "   print(matriz_random)\n",
    "\n",
    "\n",
    "filas = 4  \n",
    "columnas = 5  \n",
    "\n",
    "algoritmo_genetico(filas,columnas)\n",
    "\n"
   ]
  },
  {
   "cell_type": "code",
   "execution_count": 16,
   "metadata": {},
   "outputs": [
    {
     "name": "stdout",
     "output_type": "stream",
     "text": [
      "[3, 8, 6, 2, 9, 6, 2, 6, 9, 9, 1, 1, 8, 0, 8, 3, 1, 2, 2, 2, 6, 0, 8, 8, 6, 9, 3, 6, 8, 3, 1, 2, 9, 2, 1, 6, 3, 9, 8, 9, 1, 1, 0, 0, 8, 0, 6, 8, 2, 9, 8, 2, 6, 3, 6, 9, 9, 9, 3, 8, 0, 3, 6, 1, 2, 6, 2, 9, 2, 1, 0, 1, 6, 2, 2, 6, 1, 2, 6, 6, 3, 3, 0, 2, 0, 6, 8, 8, 6, 6, 1, 0, 1, 3, 1, 8, 0, 2, 1, 6]\n"
     ]
    }
   ],
   "source": [
    "import random\n",
    "\n",
    "# Suponiendo que F es el número de instalaciones y C el número de clientes\n",
    "F = 10  # Número de instalaciones\n",
    "C = 100  # Número de clientes\n",
    "\n",
    "# Generar apertura aleatoria de instalaciones\n",
    "instalaciones_abiertas = [random.choice([0, 1]) for _ in range(F)]\n",
    "\n",
    "# Asignar clientes a las instalaciones abiertas\n",
    "asignaciones = [random.choice([i for i in range(F) if instalaciones_abiertas[i] == 1]) for _ in range(C)]\n",
    "print(asignaciones)"
   ]
  }
 ],
 "metadata": {
  "kernelspec": {
   "display_name": "base",
   "language": "python",
   "name": "python3"
  },
  "language_info": {
   "codemirror_mode": {
    "name": "ipython",
    "version": 3
   },
   "file_extension": ".py",
   "mimetype": "text/x-python",
   "name": "python",
   "nbconvert_exporter": "python",
   "pygments_lexer": "ipython3",
   "version": "3.10.9"
  }
 },
 "nbformat": 4,
 "nbformat_minor": 2
}
